{
 "cells": [
  {
   "cell_type": "markdown",
   "metadata": {},
   "source": [
    "## Python2Vec"
   ]
  },
  {
   "cell_type": "code",
   "execution_count": 44,
   "metadata": {},
   "outputs": [],
   "source": [
    "import pandas as pd\n",
    "import numpy as np\n",
    "import ast\n",
    "from gensim.models import Word2Vec\n",
    "from gensim.models.word2vec import LineSentence"
   ]
  },
  {
   "cell_type": "code",
   "execution_count": 2,
   "metadata": {},
   "outputs": [
    {
     "data": {
      "text/plain": [
       "(20533662, 26441915)"
      ]
     },
     "execution_count": 2,
     "metadata": {},
     "output_type": "execute_result"
    }
   ],
   "source": [
    "train_data = open('python.txt', 'r')\n",
    "sentence = LineSentence(train_data)\n",
    "\n",
    "model = Word2Vec()\n",
    "\n",
    "model.build_vocab(sentence)\n",
    "model.train(sentence, total_examples=model.corpus_count, epochs=model.epochs)"
   ]
  },
  {
   "cell_type": "code",
   "execution_count": 43,
   "metadata": {},
   "outputs": [],
   "source": [
    "id_freq_df = pd.read_csv('identifier_frequency.csv', index_col=0)\n",
    "top_ids = id_freq_df['identifier'][:50].to_numpy()\n",
    "\n",
    "compare_top_ids = np.zeros((50,50))\n",
    "\n",
    "for i in range(50):\n",
    "    for j in range(50):\n",
    "\n",
    "        if i==j:\n",
    "            compare_top_ids[i][j] = 0\n",
    "        \n",
    "        else:\n",
    "            compare_top_ids[i][j] = model.wv.similarity(top_ids[i], top_ids[j])\n",
    "\n",
    "most_similar = np.argmax(compare_top_ids, axis=0)\n",
    "\n",
    "similarity = []\n",
    "\n",
    "for i in range(50):\n",
    "    similarity.append(model.wv.similarity(top_ids[i], top_ids[most_similar[i]]))\n",
    "\n",
    "similarity_df = pd.DataFrame()\n",
    "\n",
    "similarity_df['word'] = top_ids\n",
    "similarity_df['most_similar'] = top_ids[most_similar]\n",
    "similarity_df['similarity'] = similarity\n",
    "\n",
    "similarity_df.sort_values('similarity', ascending=False, inplace=True)\n",
    "similarity_df.reset_index(inplace=True)\n",
    "similarity_df.drop('index', axis=1, inplace=True)\n",
    "similarity_df.to_csv('most_similar_identifiers.csv')"
   ]
  },
  {
   "cell_type": "code",
   "execution_count": 57,
   "metadata": {},
   "outputs": [
    {
     "name": "stdout",
     "output_type": "stream",
     "text": [
      "['<ast.arguments object at 0x7fb819d4e7a0>', '<ast.Expr object at 0x7fb819d4e710>', '<ast.Import object at 0x7fb819d4e6b0>', '<ast.With object at 0x7fb819d4e650>', '<ast.Return object at 0x7fb81a7832e0>']\n",
      "['<ast.arguments object at 0x7fb819d39810>', '<ast.Assign object at 0x7fb819d39a50>', '<ast.Assign object at 0x7fb819d39a80>', '<ast.Assign object at 0x7fb819d384c0>', '<ast.Expr object at 0x7fb819d3b130>']\n",
      "['<ast.arguments object at 0x7fb81a783a30>', '<ast.Assign object at 0x7fb819d4e020>', '<ast.If object at 0x7fb819d4df00>', '<ast.Assign object at 0x7fb819d4dd20>', '<ast.Expr object at 0x7fb819d4d9c0>']\n",
      "['<ast.arguments object at 0x7fb819d4d8a0>', '<ast.Expr object at 0x7fb819d4d840>', '<ast.Assign object at 0x7fb819d4d7e0>', '<ast.If object at 0x7fb819d4d6c0>', '<ast.Assign object at 0x7fb819d4d570>', '<ast.FunctionDef object at 0x7fb819d4d390>', '<ast.Assign object at 0x7fb81a03a620>', '<ast.Assign object at 0x7fb81a03ac20>', '<ast.Assign object at 0x7fb81a03a950>', '<ast.Assign object at 0x7fb81a03ab00>', '<ast.If object at 0x7fb81a03b790>', '<ast.If object at 0x7fb81a03ae00>', '<ast.If object at 0x7fb81a03b1c0>', '<ast.Assign object at 0x7fb81a03b8e0>', '<ast.If object at 0x7fb81a03b820>', '<ast.If object at 0x7fb81a038a30>', '<ast.Assign object at 0x7fb819d3b760>', '<ast.Assign object at 0x7fb819d3b820>', '<ast.Assign object at 0x7fb819d39120>', '<ast.Return object at 0x7fb819d39390>']\n",
      "['<ast.arguments object at 0x7fb819d3be80>', '<ast.If object at 0x7fb819d3bf10>', '<ast.Assign object at 0x7fb819d3a680>', '<ast.For object at 0x7fb819d3a7a0>', '<ast.Return object at 0x7fb819d3a020>']\n",
      "['<ast.arguments object at 0x7fb819d3a2c0>', '<ast.Assign object at 0x7fb819d3a260>', '<ast.Assign object at 0x7fb819d3a0e0>', '<ast.Try object at 0x7fb819d3a470>']\n",
      "['<ast.arguments object at 0x7fb819d3ada0>', '<ast.Expr object at 0x7fb819d3ad40>', '<ast.If object at 0x7fb819d3ac80>']\n",
      "['<ast.arguments object at 0x7fb819d38070>', '<ast.Expr object at 0x7fb819d38190>', '<ast.Expr object at 0x7fb819d38280>']\n",
      "['<ast.arguments object at 0x7fb819d4d360>', '<ast.Expr object at 0x7fb819d4d2d0>', '<ast.If object at 0x7fb819d4d270>', '<ast.Return object at 0x7fb81a03a5c0>']\n"
     ]
    }
   ],
   "source": [
    "example_reader = open('example.py', 'r')\n",
    "\n",
    "code = example_reader.read()\n",
    "\n",
    "ast_tree = ast.parse(code)\n",
    "\n",
    "for node in ast.walk(ast_tree):\n",
    "    if isinstance(node, ast.FunctionDef):\n",
    "        snippet = []\n",
    "        #print(ast.dump(node, '\\n\\n\\n'))\n",
    "        for n in ast.iter_child_nodes(node):\n",
    "            snippet.append(n.)\n",
    "\n",
    "        print(snippet)"
   ]
  },
  {
   "cell_type": "code",
   "execution_count": null,
   "metadata": {},
   "outputs": [],
   "source": []
  }
 ],
 "metadata": {
  "kernelspec": {
   "display_name": "Python 3.10.9 64-bit",
   "language": "python",
   "name": "python3"
  },
  "language_info": {
   "codemirror_mode": {
    "name": "ipython",
    "version": 3
   },
   "file_extension": ".py",
   "mimetype": "text/x-python",
   "name": "python",
   "nbconvert_exporter": "python",
   "pygments_lexer": "ipython3",
   "version": "3.10.9"
  },
  "orig_nbformat": 4,
  "vscode": {
   "interpreter": {
    "hash": "e7370f93d1d0cde622a1f8e1c04877d8463912d04d973331ad4851f04de6915a"
   }
  }
 },
 "nbformat": 4,
 "nbformat_minor": 2
}
