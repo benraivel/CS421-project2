{
 "cells": [
  {
   "cell_type": "markdown",
   "metadata": {},
   "source": [
    "## Python2Vec"
   ]
  },
  {
   "cell_type": "code",
   "execution_count": 1,
   "metadata": {},
   "outputs": [],
   "source": [
    "import pandas as pd\n",
    "import numpy as np\n",
    "\n",
    "from gensim.models import Word2Vec, FastText, Doc2Vec\n",
    "from gensim.models.word2vec import LineSentence\n",
    "from gensim.models.doc2vec import TaggedLineDocument"
   ]
  },
  {
   "attachments": {},
   "cell_type": "markdown",
   "metadata": {},
   "source": [
    "### Word2Vec Model"
   ]
  },
  {
   "cell_type": "code",
   "execution_count": 2,
   "metadata": {},
   "outputs": [],
   "source": [
    "try:\n",
    "    w2v_model = Word2Vec.load('models/w2v')\n",
    "\n",
    "except FileNotFoundError:\n",
    "    w2v_model = Word2Vec()\n",
    "\n",
    "    train_data = open('python_line_breaks.txt', 'r')\n",
    "    sentence = LineSentence(train_data)\n",
    "\n",
    "    w2v_model.build_vocab(sentence)\n",
    "    w2v_model.train(sentence, total_examples=w2v_model.corpus_count, epochs=w2v_model.epochs)\n",
    "\n",
    "    train_data.close()\n",
    "\n",
    "    w2v_model.save('models/w2v')"
   ]
  },
  {
   "attachments": {},
   "cell_type": "markdown",
   "metadata": {},
   "source": [
    "### FastText Model"
   ]
  },
  {
   "cell_type": "code",
   "execution_count": 3,
   "metadata": {},
   "outputs": [],
   "source": [
    "try:\n",
    "    fast_model = FastText.load('models/fast')\n",
    "\n",
    "except FileNotFoundError:\n",
    "    fast_model = FastText()\n",
    "\n",
    "    train_data = open('python_line_breaks.txt', 'r')\n",
    "    sentence = LineSentence(train_data)\n",
    "\n",
    "    fast_model.build_vocab(sentence)\n",
    "    fast_model.train(sentence, total_examples=fast_model.corpus_count, epochs=fast_model.epochs)\n",
    "\n",
    "    train_data.close()\n",
    "\n",
    "    fast_model.save('models/fast')"
   ]
  },
  {
   "attachments": {},
   "cell_type": "markdown",
   "metadata": {},
   "source": [
    "### Doc2Vec Model"
   ]
  },
  {
   "cell_type": "code",
   "execution_count": 4,
   "metadata": {},
   "outputs": [],
   "source": [
    "try:\n",
    "    d2v_model = Doc2Vec.load('models/d2v')\n",
    "\n",
    "except FileNotFoundError:\n",
    "    train_data = open('python_no_breaks.txt', 'r')\n",
    "    docs = TaggedLineDocument(train_data)\n",
    "\n",
    "    d2v_model = Doc2Vec()\n",
    "\n",
    "    d2v_model.build_vocab(docs)\n",
    "    d2v_model.train(docs, total_examples=d2v_model.corpus_count, epochs=d2v_model.epochs)\n",
    "\n",
    "    train_data.close()\n",
    "\n",
    "    d2v_model.save('models/d2v')"
   ]
  },
  {
   "cell_type": "code",
   "execution_count": 16,
   "metadata": {},
   "outputs": [],
   "source": [
    "N = 1000\n",
    "\n",
    "id_freq_df = pd.read_csv('identifier_frequency.csv', index_col=0)\n",
    "top_ids = id_freq_df['identifier'][:N].to_numpy()\n",
    "\n",
    "w2v_top_ids = np.zeros((N, N))\n",
    "fast_top_ids = np.zeros((N, N))\n",
    "d2v_top_ids = np.zeros((N, N))\n",
    "\n",
    "for i in range(N):\n",
    "    for j in range(i):\n",
    "\n",
    "        try:\n",
    "            w2v_top_ids[i][j] = w2v_model.wv.similarity(top_ids[i], top_ids[j])\n",
    "        except (KeyError, TypeError):\n",
    "            pass\n",
    "\n",
    "        try:\n",
    "            fast_top_ids[i][j] = fast_model.wv.similarity(top_ids[i], top_ids[j])\n",
    "        except (KeyError, TypeError):\n",
    "            pass\n",
    "        \n",
    "        try:\n",
    "            d2v_top_ids[i][j] = d2v_model.wv.similarity(top_ids[i], top_ids[j])\n",
    "        except (KeyError, TypeError):\n",
    "            pass\n",
    "\n",
    "w2v_top_ids += w2v_top_ids.T\n",
    "fast_top_ids += fast_top_ids.T\n",
    "d2v_top_ids += d2v_top_ids.T\n",
    "\n",
    "w2v_most_similar = np.argmax(w2v_top_ids, axis=0)\n",
    "fast_most_similar = np.argmax(fast_top_ids, axis=0)\n",
    "d2v_most_similar = np.argmax(d2v_top_ids, axis=0)\n",
    "\n",
    "df = pd.DataFrame()\n",
    "\n",
    "df['word'] = top_ids\n",
    "df['w2v_most_similar'] = top_ids[w2v_most_similar]\n",
    "df['fast_most_similar'] = top_ids[fast_most_similar]\n",
    "df['d2v_most_similar'] = top_ids[d2v_most_similar]\n",
    "\n",
    "df['w2v_similarity'] = np.round(w2v_top_ids[np.arange(N), w2v_most_similar], 2)\n",
    "df['fast_similarity'] = np.round(fast_top_ids[np.arange(N), fast_most_similar], 2)\n",
    "df['d2v_similarity'] = np.round(d2v_top_ids[np.arange(N), d2v_most_similar], 2)\n",
    "\n",
    "df.to_csv('most_similar_identifiers.csv')"
   ]
  }
 ],
 "metadata": {
  "kernelspec": {
   "display_name": "Python 3.10.9 64-bit",
   "language": "python",
   "name": "python3"
  },
  "language_info": {
   "codemirror_mode": {
    "name": "ipython",
    "version": 3
   },
   "file_extension": ".py",
   "mimetype": "text/x-python",
   "name": "python",
   "nbconvert_exporter": "python",
   "pygments_lexer": "ipython3",
   "version": "3.10.10"
  },
  "orig_nbformat": 4,
  "vscode": {
   "interpreter": {
    "hash": "e7370f93d1d0cde622a1f8e1c04877d8463912d04d973331ad4851f04de6915a"
   }
  }
 },
 "nbformat": 4,
 "nbformat_minor": 2
}
