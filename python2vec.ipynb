{
 "cells": [
  {
   "cell_type": "markdown",
   "metadata": {},
   "source": [
    "## Python2Vec"
   ]
  },
  {
   "cell_type": "code",
   "execution_count": 44,
   "metadata": {},
   "outputs": [],
   "source": [
    "import pandas as pd\n",
    "import numpy as np\n",
    "import ast\n",
    "from gensim.models import Word2Vec\n",
    "from gensim.models.word2vec import LineSentence"
   ]
  },
  {
   "cell_type": "code",
   "execution_count": 2,
   "metadata": {},
   "outputs": [
    {
     "data": {
      "text/plain": [
       "(20533662, 26441915)"
      ]
     },
     "execution_count": 2,
     "metadata": {},
     "output_type": "execute_result"
    }
   ],
   "source": [
    "train_data = open('python.txt', 'r')\n",
    "sentence = LineSentence(train_data)\n",
    "\n",
    "model = Word2Vec()\n",
    "\n",
    "model.build_vocab(sentence)\n",
    "model.train(sentence, total_examples=model.corpus_count, epochs=model.epochs)"
   ]
  },
  {
   "cell_type": "code",
   "execution_count": 43,
   "metadata": {},
   "outputs": [],
   "source": [
    "id_freq_df = pd.read_csv('identifier_frequency.csv', index_col=0)\n",
    "top_ids = id_freq_df['identifier'][:50].to_numpy()\n",
    "\n",
    "compare_top_ids = np.zeros((50,50))\n",
    "\n",
    "for i in range(50):\n",
    "    for j in range(50):\n",
    "\n",
    "        if i==j:\n",
    "            compare_top_ids[i][j] = 0\n",
    "        \n",
    "        else:\n",
    "            compare_top_ids[i][j] = model.wv.similarity(top_ids[i], top_ids[j])\n",
    "\n",
    "most_similar = np.argmax(compare_top_ids, axis=0)\n",
    "\n",
    "similarity = []\n",
    "\n",
    "for i in range(50):\n",
    "    similarity.append(model.wv.similarity(top_ids[i], top_ids[most_similar[i]]))\n",
    "\n",
    "similarity_df = pd.DataFrame()\n",
    "\n",
    "similarity_df['word'] = top_ids\n",
    "similarity_df['most_similar'] = top_ids[most_similar]\n",
    "similarity_df['similarity'] = similarity\n",
    "\n",
    "similarity_df.sort_values('similarity', ascending=False, inplace=True)\n",
    "similarity_df.reset_index(inplace=True)\n",
    "similarity_df.drop('index', axis=1, inplace=True)\n",
    "similarity_df.to_csv('most_similar_identifiers.csv')"
   ]
  },
  {
   "cell_type": "code",
   "execution_count": null,
   "metadata": {},
   "outputs": [],
   "source": []
  }
 ],
 "metadata": {
  "kernelspec": {
   "display_name": "Python 3.10.9 64-bit",
   "language": "python",
   "name": "python3"
  },
  "language_info": {
   "codemirror_mode": {
    "name": "ipython",
    "version": 3
   },
   "file_extension": ".py",
   "mimetype": "text/x-python",
   "name": "python",
   "nbconvert_exporter": "python",
   "pygments_lexer": "ipython3",
   "version": "3.10.9"
  },
  "orig_nbformat": 4,
  "vscode": {
   "interpreter": {
    "hash": "e7370f93d1d0cde622a1f8e1c04877d8463912d04d973331ad4851f04de6915a"
   }
  }
 },
 "nbformat": 4,
 "nbformat_minor": 2
}
