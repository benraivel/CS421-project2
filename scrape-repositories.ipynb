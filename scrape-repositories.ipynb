{
 "cells": [
  {
   "cell_type": "markdown",
   "metadata": {},
   "source": [
    "## Python Source Code Scraping"
   ]
  },
  {
   "cell_type": "code",
   "execution_count": 1,
   "metadata": {},
   "outputs": [],
   "source": [
    "import os\n",
    "import git\n",
    "import re\n",
    "import tqdm\n",
    "import time\n",
    "from IPython.display import display, clear_output\n",
    "import sys\n",
    "import shutil\n",
    "import ast\n",
    "import numpy as np\n",
    "import pandas as pd"
   ]
  },
  {
   "cell_type": "markdown",
   "metadata": {},
   "source": [
    "Create a list of eight popular python package repositories (matplotlib, sklearn, numpy, pandas, django, scipy, flask, and requests):"
   ]
  },
  {
   "cell_type": "code",
   "execution_count": 2,
   "metadata": {},
   "outputs": [],
   "source": [
    "repo_urls = ['https://github.com/matplotlib/matplotlib.git',\n",
    "             'https://github.com/scikit-learn/scikit-learn.git',\n",
    "             'https://github.com/numpy/numpy.git',\n",
    "             'https://github.com/pandas-dev/pandas.git',\n",
    "             'https://github.com/django/django.git',\n",
    "             'https://github.com/scipy/scipy.git',\n",
    "             'https://github.com/pallets/flask.git',\n",
    "             'https://github.com/psf/requests.git']"
   ]
  },
  {
   "cell_type": "markdown",
   "metadata": {},
   "source": [
    "Define a subclass of GitPython's RemoteProgress to track progress when fetching sources:"
   ]
  },
  {
   "cell_type": "code",
   "execution_count": 3,
   "metadata": {},
   "outputs": [],
   "source": [
    "class ProgressBar(git.RemoteProgress):\n",
    "\n",
    "    def __init__(self) -> None:\n",
    "        super().__init__()\n",
    "\n",
    "        # create tqdm object\n",
    "        self.bar = tqdm.tqdm()\n",
    "\n",
    "        # record start time\n",
    "        self.start_time = time.time()\n",
    "        \n",
    "        # create status_printer function\n",
    "        self.printer = self.bar.status_printer(sys.stdout)\n",
    "\n",
    "    # update gets called when git fetch progress changes\n",
    "    def update(self, op_code, cur_count, max_count=None, message=\"\"):\n",
    "\n",
    "        elapsed_time = time.time() - self.start_time\n",
    "        \n",
    "        progress = self.bar.format_meter(n=cur_count, total=max_count, elapsed=elapsed_time)\n",
    "        \n",
    "        self.printer(progress)"
   ]
  },
  {
   "cell_type": "code",
   "execution_count": 4,
   "metadata": {},
   "outputs": [],
   "source": [
    "def scrape_py(py, out_file, ast_dict, ast_total):\n",
    "    '''\n",
    "    takes two filestreams\n",
    "    '''\n",
    "\n",
    "    token_re = re.compile(r'[a-z_]+')\n",
    "    line_comment_re = re.compile(r'[ \\t]*#.*')\n",
    "    block_comment_re = re.compile(r'(\\'\\'\\')|(\\\"\\\"\\\")')\n",
    "\n",
    "    code = py.read()\n",
    "    try:\n",
    "        ast_tree = ast.parse(code)\n",
    "\n",
    "        for node in ast.walk(ast_tree):\n",
    "            if isinstance(node, ast.Name):\n",
    "                ast_total += 1\n",
    "                node_id = node.id.lower()\n",
    "                if node_id in ast_dict:\n",
    "                    ast_dict[node_id] += 1\n",
    "                else:\n",
    "                    ast_dict[node_id] = 1\n",
    "    \n",
    "    except SyntaxError:\n",
    "        pass\n",
    "\n",
    "    py.seek(0)\n",
    "\n",
    "    # boolean to track whether we are in a block comment\n",
    "    in_block_comment = False\n",
    "\n",
    "    for line in py:\n",
    "\n",
    "        # check for block comment start/end\n",
    "        block_matches = block_comment_re.findall(line)\n",
    "\n",
    "        # if only one match, begin/end multiline comment\n",
    "        if len(block_matches) == 1:\n",
    "            in_block_comment = not in_block_comment  \n",
    "        \n",
    "        # if two matches, ignore the line\n",
    "        elif len(block_matches) == 2:\n",
    "            in_block_comment = False\n",
    "        \n",
    "        elif not in_block_comment:\n",
    "\n",
    "            # remove line/inline comments\n",
    "            no_comments = line_comment_re.sub('', line)\n",
    "\n",
    "            # get lowercase alphabetic characters\n",
    "            clean_line = ' '.join(token_re.findall(no_comments.lower()))+'\\n'\n",
    "\n",
    "            # check for empty line\n",
    "            if clean_line != '\\n':\n",
    "                out_file.write(clean_line)\n",
    "    \n",
    "    return ast_total"
   ]
  },
  {
   "cell_type": "markdown",
   "metadata": {},
   "source": [
    "Loop over the list of repositories. For each one, create an empty local git repository, clone the remote repository into the local one, then scrape all the python files:"
   ]
  },
  {
   "cell_type": "code",
   "execution_count": 5,
   "metadata": {},
   "outputs": [
    {
     "name": "stdout",
     "output_type": "stream",
     "text": [
      "Fetching https://github.com/matplotlib/matplotlib.git...\n"
     ]
    },
    {
     "name": "stderr",
     "output_type": "stream",
     "text": [
      "0it [00:00, ?it/s]"
     ]
    },
    {
     "name": "stdout",
     "output_type": "stream",
     "text": [
      "100%|██████████| 209264.0/209264.0 [03:51<00:00, 902.96it/s] "
     ]
    },
    {
     "name": "stderr",
     "output_type": "stream",
     "text": [
      "0it [03:52, ?it/s]\n"
     ]
    },
    {
     "name": "stdout",
     "output_type": "stream",
     "text": [
      "Fetching https://github.com/scikit-learn/scikit-learn.git...\n"
     ]
    },
    {
     "name": "stderr",
     "output_type": "stream",
     "text": [
      "0it [00:00, ?it/s]"
     ]
    },
    {
     "name": "stdout",
     "output_type": "stream",
     "text": [
      "100%|██████████| 171766.0/171766.0 [01:47<00:00, 1603.77it/s]"
     ]
    },
    {
     "name": "stderr",
     "output_type": "stream",
     "text": [
      "0it [01:47, ?it/s]\n"
     ]
    },
    {
     "name": "stdout",
     "output_type": "stream",
     "text": [
      "Fetching https://github.com/numpy/numpy.git...\n"
     ]
    },
    {
     "name": "stderr",
     "output_type": "stream",
     "text": [
      "0it [00:00, ?it/s]"
     ]
    },
    {
     "name": "stdout",
     "output_type": "stream",
     "text": [
      "100%|██████████| 185582.0/185582.0 [01:03<00:00, 2911.29it/s]"
     ]
    },
    {
     "name": "stderr",
     "output_type": "stream",
     "text": [
      "0it [01:04, ?it/s]\n"
     ]
    },
    {
     "name": "stdout",
     "output_type": "stream",
     "text": [
      "Fetching https://github.com/pandas-dev/pandas.git...\n"
     ]
    },
    {
     "name": "stderr",
     "output_type": "stream",
     "text": [
      "0it [00:00, ?it/s]"
     ]
    },
    {
     "name": "stdout",
     "output_type": "stream",
     "text": [
      "100%|██████████| 284310.0/284310.0 [00:52<00:00, 5379.93it/s]"
     ]
    },
    {
     "name": "stderr",
     "output_type": "stream",
     "text": [
      "0it [00:53, ?it/s]\n"
     ]
    },
    {
     "name": "stdout",
     "output_type": "stream",
     "text": [
      "Fetching https://github.com/django/django.git...\n"
     ]
    },
    {
     "name": "stderr",
     "output_type": "stream",
     "text": [
      "0it [00:00, ?it/s]"
     ]
    },
    {
     "name": "stdout",
     "output_type": "stream",
     "text": [
      "100%|██████████| 350214.0/350214.0 [02:59<00:00, 1955.90it/s]"
     ]
    },
    {
     "name": "stderr",
     "output_type": "stream",
     "text": [
      "0it [03:00, ?it/s]\n"
     ]
    },
    {
     "name": "stdout",
     "output_type": "stream",
     "text": [
      "Fetching https://github.com/scipy/scipy.git...\n"
     ]
    },
    {
     "name": "stderr",
     "output_type": "stream",
     "text": [
      "0it [00:00, ?it/s]"
     ]
    },
    {
     "name": "stdout",
     "output_type": "stream",
     "text": [
      "100%|██████████| 164178.0/164178.0 [00:27<00:00, 5991.13it/s]"
     ]
    },
    {
     "name": "stderr",
     "output_type": "stream",
     "text": [
      "0it [00:28, ?it/s]\n"
     ]
    },
    {
     "name": "stdout",
     "output_type": "stream",
     "text": [
      "Fetching https://github.com/pallets/flask.git...\n"
     ]
    },
    {
     "name": "stderr",
     "output_type": "stream",
     "text": [
      "0it [00:00, ?it/s]"
     ]
    },
    {
     "name": "stdout",
     "output_type": "stream",
     "text": [
      "100%|██████████| 15591.0/15591.0 [00:04<00:00, 3470.16it/s]"
     ]
    },
    {
     "name": "stderr",
     "output_type": "stream",
     "text": [
      "0it [00:04, ?it/s]\n"
     ]
    },
    {
     "name": "stdout",
     "output_type": "stream",
     "text": [
      "Fetching https://github.com/psf/requests.git...\n"
     ]
    },
    {
     "name": "stderr",
     "output_type": "stream",
     "text": [
      "0it [00:00, ?it/s]"
     ]
    },
    {
     "name": "stdout",
     "output_type": "stream",
     "text": [
      "100%|██████████| 16525.0/16525.0 [00:03<00:00, 5130.92it/s]"
     ]
    },
    {
     "name": "stderr",
     "output_type": "stream",
     "text": [
      "0it [00:03, ?it/s]\n"
     ]
    }
   ],
   "source": [
    "training_data = open('python.txt', 'w')\n",
    "identifiers = {}\n",
    "id_total = 0\n",
    "\n",
    "# loop over repository urls\n",
    "for i in range(len(repo_urls)):\n",
    "\n",
    "    # create empty repository to clone into\n",
    "    temp_repo = git.Repo.init(os.path.join(os.getcwd(), 'temp'))\n",
    "\n",
    "    # add repo url as remote origin\n",
    "    origin = temp_repo.create_remote('origin', repo_urls[i])\n",
    "\n",
    "    # fetch remote objects\n",
    "    print('Fetching ' + repo_urls[i] + '...')\n",
    "    origin.fetch(progress=ProgressBar())\n",
    "    \n",
    "    # set up local branch to track remote\n",
    "    temp_repo.create_head('main', origin.refs.main)\n",
    "    temp_repo.heads.main.set_tracking_branch(origin.refs.main)\n",
    "    \n",
    "    # checkout local branch and pull\n",
    "    temp_repo.heads.main.checkout()\n",
    "    origin.pull()\n",
    "\n",
    "    # loop over subdirectories repo directory\n",
    "    for root, dirs, files in os.walk('temp'):\n",
    "        \n",
    "        # loop over files in subdirectory\n",
    "        for file in files:\n",
    "\n",
    "            name_ext = file.split('.')\n",
    "\n",
    "            # ignore files with no extension\n",
    "            if len(name_ext)==1:\n",
    "                pass\n",
    "            \n",
    "            # check for '.py' files\n",
    "            elif name_ext[1] == 'py':\n",
    "\n",
    "                py = open(os.path.join(root, file), 'r')\n",
    "\n",
    "                id_total = scrape_py(py, training_data, identifiers, id_total)\n",
    "\n",
    "                py.close()\n",
    "\n",
    "    # delete repository\n",
    "    shutil.rmtree('temp')\n",
    "\n",
    "training_data.close()"
   ]
  },
  {
   "cell_type": "code",
   "execution_count": 22,
   "metadata": {},
   "outputs": [],
   "source": [
    "arr = np.asarray(list(identifiers.items()))\n",
    "count = np.array(arr[:,1], dtype=int).reshape((arr.shape[0], 1))\n",
    "rate = count/id_total\n",
    "\n",
    "\n",
    "df = pd.DataFrame()\n",
    "df['identifier'] = arr[:,0]\n",
    "df['total'] = count\n",
    "df['rate'] = rate\n",
    "\n",
    "df.sort_values('total', ascending=False, inplace=True)\n",
    "df.reset_index(inplace=True)\n",
    "df.drop('index', axis=1, inplace=True)\n",
    "df.to_csv('identifier_frequency.csv')"
   ]
  }
 ],
 "metadata": {
  "kernelspec": {
   "display_name": "Python 3.10.9 64-bit",
   "language": "python",
   "name": "python3"
  },
  "language_info": {
   "codemirror_mode": {
    "name": "ipython",
    "version": 3
   },
   "file_extension": ".py",
   "mimetype": "text/x-python",
   "name": "python",
   "nbconvert_exporter": "python",
   "pygments_lexer": "ipython3",
   "version": "3.10.9"
  },
  "orig_nbformat": 4,
  "vscode": {
   "interpreter": {
    "hash": "e7370f93d1d0cde622a1f8e1c04877d8463912d04d973331ad4851f04de6915a"
   }
  }
 },
 "nbformat": 4,
 "nbformat_minor": 2
}
