{
 "cells": [
  {
   "cell_type": "code",
   "execution_count": 1,
   "metadata": {},
   "outputs": [],
   "source": [
    "import os\n",
    "import git\n",
    "import re\n",
    "import tqdm\n",
    "import time\n",
    "from IPython.display import display, clear_output\n",
    "import sys\n",
    "import shutil"
   ]
  },
  {
   "cell_type": "code",
   "execution_count": 2,
   "metadata": {},
   "outputs": [],
   "source": [
    "repo_list = ['https://github.com/matplotlib/matplotlib.git',\n",
    "             'https://github.com/scikit-learn/scikit-learn.git',\n",
    "             'https://github.com/numpy/numpy.git',\n",
    "             'https://github.com/pandas-dev/pandas.git',\n",
    "             'https://github.com/django/django.git',\n",
    "             'https://github.com/scipy/scipy.git',\n",
    "             'https://github.com/pallets/flask.git',\n",
    "             'https://github.com/psf/requests.git']"
   ]
  },
  {
   "cell_type": "code",
   "execution_count": 3,
   "metadata": {},
   "outputs": [],
   "source": [
    "class ProgressBar(git.RemoteProgress):\n",
    "\n",
    "    def __init__(self) -> None:\n",
    "        super().__init__()\n",
    "\n",
    "        # create tqdm object\n",
    "        self.bar = tqdm.tqdm()\n",
    "\n",
    "        # record start time\n",
    "        self.start_time = time.time()\n",
    "        \n",
    "        # create status_printer function\n",
    "        self.printer = self.bar.status_printer(sys.stdout)\n",
    "\n",
    "    # update gets called when git fetch progress changes\n",
    "    def update(self, op_code, cur_count, max_count=None, message=\"\"):\n",
    "\n",
    "        elapsed_time = time.time() - self.start_time\n",
    "        \n",
    "        progress = self.bar.format_meter(n=cur_count, total=max_count, elapsed=elapsed_time)\n",
    "        \n",
    "        self.printer(progress)"
   ]
  },
  {
   "cell_type": "code",
   "execution_count": 4,
   "metadata": {},
   "outputs": [
    {
     "name": "stdout",
     "output_type": "stream",
     "text": [
      "Fetching https://github.com/matplotlib/matplotlib.git...\n"
     ]
    },
    {
     "name": "stderr",
     "output_type": "stream",
     "text": [
      "0it [00:00, ?it/s]"
     ]
    },
    {
     "name": "stdout",
     "output_type": "stream",
     "text": [
      "100%|██████████| 209241.0/209241.0 [03:20<00:00, 1042.43it/s]"
     ]
    },
    {
     "name": "stderr",
     "output_type": "stream",
     "text": [
      "0it [03:21, ?it/s]\n"
     ]
    },
    {
     "name": "stdout",
     "output_type": "stream",
     "text": [
      "Fetching https://github.com/scikit-learn/scikit-learn.git...\n"
     ]
    },
    {
     "name": "stderr",
     "output_type": "stream",
     "text": [
      "0it [00:00, ?it/s]"
     ]
    },
    {
     "name": "stdout",
     "output_type": "stream",
     "text": [
      "100%|██████████| 171697.0/171697.0 [01:15<00:00, 2264.48it/s]"
     ]
    },
    {
     "name": "stderr",
     "output_type": "stream",
     "text": [
      "0it [01:16, ?it/s]\n"
     ]
    },
    {
     "name": "stdout",
     "output_type": "stream",
     "text": [
      "Fetching https://github.com/numpy/numpy.git...\n"
     ]
    },
    {
     "name": "stderr",
     "output_type": "stream",
     "text": [
      "0it [00:00, ?it/s]"
     ]
    },
    {
     "name": "stdout",
     "output_type": "stream",
     "text": [
      "100%|██████████| 185493.0/185493.0 [00:56<00:00, 3309.26it/s]"
     ]
    },
    {
     "name": "stderr",
     "output_type": "stream",
     "text": [
      "0it [00:56, ?it/s]\n"
     ]
    },
    {
     "name": "stdout",
     "output_type": "stream",
     "text": [
      "Fetching https://github.com/pandas-dev/pandas.git...\n"
     ]
    },
    {
     "name": "stderr",
     "output_type": "stream",
     "text": [
      "0it [00:00, ?it/s]"
     ]
    },
    {
     "name": "stdout",
     "output_type": "stream",
     "text": [
      "100%|██████████| 284082.0/284082.0 [01:35<00:00, 2962.35it/s]"
     ]
    },
    {
     "name": "stderr",
     "output_type": "stream",
     "text": [
      "0it [01:36, ?it/s]\n"
     ]
    },
    {
     "name": "stdout",
     "output_type": "stream",
     "text": [
      "Fetching https://github.com/django/django.git...\n"
     ]
    },
    {
     "name": "stderr",
     "output_type": "stream",
     "text": [
      "0it [00:00, ?it/s]"
     ]
    },
    {
     "name": "stdout",
     "output_type": "stream",
     "text": [
      "100%|██████████| 350135.0/350135.0 [00:41<00:00, 8425.55it/s] "
     ]
    },
    {
     "name": "stderr",
     "output_type": "stream",
     "text": [
      "0it [00:43, ?it/s]\n"
     ]
    },
    {
     "name": "stdout",
     "output_type": "stream",
     "text": [
      "Fetching https://github.com/scipy/scipy.git...\n"
     ]
    },
    {
     "name": "stderr",
     "output_type": "stream",
     "text": [
      "0it [00:00, ?it/s]"
     ]
    },
    {
     "name": "stdout",
     "output_type": "stream",
     "text": [
      "100%|██████████| 164116.0/164116.0 [01:08<00:00, 2392.71it/s]"
     ]
    },
    {
     "name": "stderr",
     "output_type": "stream",
     "text": [
      "0it [01:09, ?it/s]\n"
     ]
    },
    {
     "name": "stdout",
     "output_type": "stream",
     "text": [
      "Fetching https://github.com/pallets/flask.git...\n"
     ]
    },
    {
     "name": "stderr",
     "output_type": "stream",
     "text": [
      "0it [00:00, ?it/s]"
     ]
    },
    {
     "name": "stdout",
     "output_type": "stream",
     "text": [
      "100%|██████████| 15583.0/15583.0 [00:03<00:00, 4073.71it/s]"
     ]
    },
    {
     "name": "stderr",
     "output_type": "stream",
     "text": [
      "0it [00:03, ?it/s]\n"
     ]
    },
    {
     "name": "stdout",
     "output_type": "stream",
     "text": [
      "Fetching https://github.com/psf/requests.git...\n"
     ]
    },
    {
     "name": "stderr",
     "output_type": "stream",
     "text": [
      "0it [00:00, ?it/s]"
     ]
    },
    {
     "name": "stdout",
     "output_type": "stream",
     "text": [
      "100%|██████████| 16551.0/16551.0 [00:02<00:00, 5895.08it/s]"
     ]
    },
    {
     "name": "stderr",
     "output_type": "stream",
     "text": [
      "0it [00:02, ?it/s]\n"
     ]
    }
   ],
   "source": [
    "pattern = re.compile('[a-z]+')\n",
    "\n",
    "cleaned_python = open('python.txt', 'w')\n",
    "\n",
    "# loop over repository urls\n",
    "for i in range(len(repo_list)):\n",
    "\n",
    "    # create a repository to clone into\n",
    "    temp_repo = git.Repo.init(os.path.join(os.getcwd(), 'temp'))\n",
    "\n",
    "    origin = temp_repo.create_remote('origin', repo_list[i])\n",
    "\n",
    "    print('Fetching ' + repo_list[i] + '...')\n",
    "\n",
    "    origin.fetch(progress=ProgressBar())\n",
    "    \n",
    "    temp_repo.create_head('main', origin.refs.main)\n",
    "    temp_repo.heads.main.set_tracking_branch(origin.refs.main)\n",
    "    temp_repo.heads.main.checkout()\n",
    "\n",
    "    origin.pull()\n",
    "\n",
    "    for root, dirs, files in os.walk('temp'):\n",
    "    \n",
    "        for file in files:\n",
    "            name_ext = file.split('.')\n",
    "\n",
    "            if len(name_ext)==1:\n",
    "                pass\n",
    "\n",
    "            elif name_ext[1] == 'py':\n",
    "                f = open(os.path.join(root, file), 'r')\n",
    "\n",
    "                for line in f:\n",
    "                    cleaned_python.write(' '.join(pattern.findall(line.lower())) + '\\n')\n",
    "\n",
    "                f.close()\n",
    "\n",
    "    # clean up repository\n",
    "    shutil.rmtree('temp')\n",
    "\n",
    "    pass\n",
    "\n",
    "cleaned_python.close()"
   ]
  }
 ],
 "metadata": {
  "kernelspec": {
   "display_name": "Python 3.10.9 64-bit",
   "language": "python",
   "name": "python3"
  },
  "language_info": {
   "codemirror_mode": {
    "name": "ipython",
    "version": 3
   },
   "file_extension": ".py",
   "mimetype": "text/x-python",
   "name": "python",
   "nbconvert_exporter": "python",
   "pygments_lexer": "ipython3",
   "version": "3.10.9"
  },
  "orig_nbformat": 4,
  "vscode": {
   "interpreter": {
    "hash": "e7370f93d1d0cde622a1f8e1c04877d8463912d04d973331ad4851f04de6915a"
   }
  }
 },
 "nbformat": 4,
 "nbformat_minor": 2
}
